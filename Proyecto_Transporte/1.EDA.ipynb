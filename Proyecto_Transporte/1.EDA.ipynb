{
 "cells": [
  {
   "cell_type": "markdown",
   "metadata": {},
   "source": [
    "<p style=\"text-align: center;\">EXPLORACIÓN, TRANFORMACIÓN Y LIMIPIEZA DE LOS DATOS</p>\n",
    "<p style=\"text-align: center;\">TRANSPORTE PÚBLICO EN ESPAÑA</p>"
   ]
  },
  {
   "cell_type": "code",
   "execution_count": 1,
   "metadata": {},
   "outputs": [],
   "source": [
    "# Librerías de análisis\n",
    "# -----------------------------------------------------------------------\n",
    "import pandas as pd\n",
    "import numpy as np\n",
    "pd.set_option('display.max_rows', None)\n",
    "pd.set_option('display.max_columns', None)\n",
    "\n",
    "# Librerías de visualización\n",
    "# -----------------------------------------------------------------------\n",
    "import seaborn as sns\n",
    "import matplotlib.pyplot as plt"
   ]
  },
  {
   "cell_type": "code",
   "execution_count": 2,
   "metadata": {},
   "outputs": [],
   "source": [
    "# conjuntos de datos: \n",
    "df_tp = pd.read_csv('Transporte_Publico_Espana.csv', index_col = 0)\n"
   ]
  },
  {
   "cell_type": "markdown",
   "metadata": {},
   "source": [
    "Tras importar las librerías y leer y almacenar el csv en un dataframe para poder trabajar con ello, comienzo a explorar y revisar el conjunto de datos con una primera aproximación en la que reviso datos generales:\n",
    "1. Primeras filas para ver los datos\n",
    "2. Estructura general y presencia de nulos\n",
    "3. Estadísticas básicas para ver la contundencia\n",
    "4. Valores duplicados"
   ]
  },
  {
   "cell_type": "code",
   "execution_count": 3,
   "metadata": {},
   "outputs": [
    {
     "name": "stdout",
     "output_type": "stream",
     "text": [
      "Primeras filas de df_tp:\n",
      "                        Fecha                Ruta  Numero_Pasajeros  \\\n",
      "ID_Viaje                                                              \n",
      "1         2023-01-01 00:00:00  Barcelona - Bilbao               NaN   \n",
      "2         2023-01-01 00:01:00    Malaga - Sevilla              99.0   \n",
      "3         2023-01-01 00:02:00   Madrid - Zaragoza              10.0   \n",
      "4         2023-01-01 00:03:00    Sevilla - Madrid              96.0   \n",
      "5         2023-01-01 00:04:00     Madrid - Malaga              22.0   \n",
      "\n",
      "         Duracion_Viaje_Minutos  Retraso_Minutos Tipo_Transporte     Region  \\\n",
      "ID_Viaje                                                                      \n",
      "1                 not_available              999         Tranvía    Sevilla   \n",
      "2                         192.0               58            Tren  Barcelona   \n",
      "3                          94.0              119         Autobús     Madrid   \n",
      "4                         650.0                2           Metro     Malaga   \n",
      "5                         335.0               51         Autobús    Sevilla   \n",
      "\n",
      "         Dia_Semana  \n",
      "ID_Viaje             \n",
      "1            Sunday  \n",
      "2            Sunday  \n",
      "3            Sunday  \n",
      "4            Sunday  \n",
      "5            Sunday  \n",
      "\n",
      "Información de df_tp:\n",
      "<class 'pandas.core.frame.DataFrame'>\n",
      "Int64Index: 100100 entries, 1 to 100\n",
      "Data columns (total 8 columns):\n",
      " #   Column                  Non-Null Count   Dtype  \n",
      "---  ------                  --------------   -----  \n",
      " 0   Fecha                   100100 non-null  object \n",
      " 1   Ruta                    100100 non-null  object \n",
      " 2   Numero_Pasajeros        99099 non-null   float64\n",
      " 3   Duracion_Viaje_Minutos  99767 non-null   object \n",
      " 4   Retraso_Minutos         100100 non-null  int64  \n",
      " 5   Tipo_Transporte         100100 non-null  object \n",
      " 6   Region                  100100 non-null  object \n",
      " 7   Dia_Semana              100100 non-null  object \n",
      "dtypes: float64(1), int64(1), object(6)\n",
      "memory usage: 6.9+ MB\n",
      "None\n",
      "\n",
      "Estadísticas de df_tp:\n",
      "       Numero_Pasajeros  Retraso_Minutos\n",
      "count      99099.000000    100100.000000\n",
      "mean          54.465171        64.044685\n",
      "std           25.956460        74.795155\n",
      "min           10.000000         0.000000\n",
      "25%           32.000000        29.000000\n",
      "50%           54.000000        59.000000\n",
      "75%           77.000000        90.000000\n",
      "max           99.000000       999.000000\n",
      "\n",
      "Valores duplicados de df_tp:\n",
      "100\n"
     ]
    }
   ],
   "source": [
    "def explorar_datos(dataframe, nombre):\n",
    "    # Muestra las primeras filas del conjunto de datos\n",
    "    print(f\"Primeras filas de {nombre}:\")\n",
    "    print(dataframe.head())\n",
    "\n",
    "    # Información sobre la estructura de los datos y la presencia de valores nulos\n",
    "    print(f\"\\nInformación de {nombre}:\")\n",
    "    print(dataframe.info())\n",
    "\n",
    "    # Estadísticas básicas de las columnas involucradas\n",
    "    print(f\"\\nEstadísticas de {nombre}:\")\n",
    "    print(dataframe.describe())\n",
    "\n",
    "    # Valores duplicados\n",
    "    print(f\"\\nValores duplicados de {nombre}:\")\n",
    "    print(dataframe.duplicated().sum())\n",
    "\n",
    "# Llamadas a la función para tus conjuntos de datos\n",
    "explorar_datos(df_tp, \"df_tp\")"
   ]
  },
  {
   "cell_type": "markdown",
   "metadata": {},
   "source": [
    "Detecto que el ID_Viaje está en el índice en vez de en columna, por la lectura que he hecho del csv anteriormente. Decido sacarlo a columna y volver a revisar los datos."
   ]
  },
  {
   "cell_type": "code",
   "execution_count": 4,
   "metadata": {},
   "outputs": [],
   "source": [
    "#Saco el ID_viaje del indice\n",
    "df_tp.reset_index(inplace=True)"
   ]
  },
  {
   "cell_type": "code",
   "execution_count": 5,
   "metadata": {},
   "outputs": [
    {
     "name": "stdout",
     "output_type": "stream",
     "text": [
      "Primeras filas de df_tp:\n",
      "   ID_Viaje                Fecha                Ruta  Numero_Pasajeros  \\\n",
      "0         1  2023-01-01 00:00:00  Barcelona - Bilbao               NaN   \n",
      "1         2  2023-01-01 00:01:00    Malaga - Sevilla              99.0   \n",
      "2         3  2023-01-01 00:02:00   Madrid - Zaragoza              10.0   \n",
      "3         4  2023-01-01 00:03:00    Sevilla - Madrid              96.0   \n",
      "4         5  2023-01-01 00:04:00     Madrid - Malaga              22.0   \n",
      "\n",
      "  Duracion_Viaje_Minutos  Retraso_Minutos Tipo_Transporte     Region  \\\n",
      "0          not_available              999         Tranvía    Sevilla   \n",
      "1                  192.0               58            Tren  Barcelona   \n",
      "2                   94.0              119         Autobús     Madrid   \n",
      "3                  650.0                2           Metro     Malaga   \n",
      "4                  335.0               51         Autobús    Sevilla   \n",
      "\n",
      "  Dia_Semana  \n",
      "0     Sunday  \n",
      "1     Sunday  \n",
      "2     Sunday  \n",
      "3     Sunday  \n",
      "4     Sunday  \n",
      "\n",
      "Información de df_tp:\n",
      "<class 'pandas.core.frame.DataFrame'>\n",
      "RangeIndex: 100100 entries, 0 to 100099\n",
      "Data columns (total 9 columns):\n",
      " #   Column                  Non-Null Count   Dtype  \n",
      "---  ------                  --------------   -----  \n",
      " 0   ID_Viaje                100100 non-null  int64  \n",
      " 1   Fecha                   100100 non-null  object \n",
      " 2   Ruta                    100100 non-null  object \n",
      " 3   Numero_Pasajeros        99099 non-null   float64\n",
      " 4   Duracion_Viaje_Minutos  99767 non-null   object \n",
      " 5   Retraso_Minutos         100100 non-null  int64  \n",
      " 6   Tipo_Transporte         100100 non-null  object \n",
      " 7   Region                  100100 non-null  object \n",
      " 8   Dia_Semana              100100 non-null  object \n",
      "dtypes: float64(1), int64(2), object(6)\n",
      "memory usage: 6.9+ MB\n",
      "None\n",
      "\n",
      "Estadísticas de df_tp:\n",
      "            ID_Viaje  Numero_Pasajeros  Retraso_Minutos\n",
      "count  100100.000000      99099.000000    100100.000000\n",
      "mean    49950.599900         54.465171        64.044685\n",
      "std     28896.352622         25.956460        74.795155\n",
      "min         1.000000         10.000000         0.000000\n",
      "25%     24925.750000         32.000000        29.000000\n",
      "50%     49950.500000         54.000000        59.000000\n",
      "75%     74975.250000         77.000000        90.000000\n",
      "max    100000.000000         99.000000       999.000000\n",
      "\n",
      "Valores duplicados de df_tp:\n",
      "100\n"
     ]
    }
   ],
   "source": [
    "explorar_datos(df_tp, \"df_tp\")"
   ]
  },
  {
   "cell_type": "markdown",
   "metadata": {},
   "source": [
    "Exploro a fondo los valores duplicados. Para ello, primero identifico las filas y después los ordendo para verlos bien."
   ]
  },
  {
   "cell_type": "code",
   "execution_count": 6,
   "metadata": {},
   "outputs": [
    {
     "data": {
      "text/html": [
       "<div>\n",
       "<style scoped>\n",
       "    .dataframe tbody tr th:only-of-type {\n",
       "        vertical-align: middle;\n",
       "    }\n",
       "\n",
       "    .dataframe tbody tr th {\n",
       "        vertical-align: top;\n",
       "    }\n",
       "\n",
       "    .dataframe thead th {\n",
       "        text-align: right;\n",
       "    }\n",
       "</style>\n",
       "<table border=\"1\" class=\"dataframe\">\n",
       "  <thead>\n",
       "    <tr style=\"text-align: right;\">\n",
       "      <th></th>\n",
       "      <th>ID_Viaje</th>\n",
       "      <th>Fecha</th>\n",
       "      <th>Ruta</th>\n",
       "      <th>Numero_Pasajeros</th>\n",
       "      <th>Duracion_Viaje_Minutos</th>\n",
       "      <th>Retraso_Minutos</th>\n",
       "      <th>Tipo_Transporte</th>\n",
       "      <th>Region</th>\n",
       "      <th>Dia_Semana</th>\n",
       "    </tr>\n",
       "  </thead>\n",
       "  <tbody>\n",
       "    <tr>\n",
       "      <th>0</th>\n",
       "      <td>1</td>\n",
       "      <td>2023-01-01 00:00:00</td>\n",
       "      <td>Barcelona - Bilbao</td>\n",
       "      <td>NaN</td>\n",
       "      <td>not_available</td>\n",
       "      <td>999</td>\n",
       "      <td>Tranvía</td>\n",
       "      <td>Sevilla</td>\n",
       "      <td>Sunday</td>\n",
       "    </tr>\n",
       "    <tr>\n",
       "      <th>100000</th>\n",
       "      <td>1</td>\n",
       "      <td>2023-01-01 00:00:00</td>\n",
       "      <td>Barcelona - Bilbao</td>\n",
       "      <td>NaN</td>\n",
       "      <td>not_available</td>\n",
       "      <td>999</td>\n",
       "      <td>Tranvía</td>\n",
       "      <td>Sevilla</td>\n",
       "      <td>Sunday</td>\n",
       "    </tr>\n",
       "    <tr>\n",
       "      <th>1</th>\n",
       "      <td>2</td>\n",
       "      <td>2023-01-01 00:01:00</td>\n",
       "      <td>Malaga - Sevilla</td>\n",
       "      <td>99.0</td>\n",
       "      <td>192.0</td>\n",
       "      <td>58</td>\n",
       "      <td>Tren</td>\n",
       "      <td>Barcelona</td>\n",
       "      <td>Sunday</td>\n",
       "    </tr>\n",
       "    <tr>\n",
       "      <th>100001</th>\n",
       "      <td>2</td>\n",
       "      <td>2023-01-01 00:01:00</td>\n",
       "      <td>Malaga - Sevilla</td>\n",
       "      <td>99.0</td>\n",
       "      <td>192.0</td>\n",
       "      <td>58</td>\n",
       "      <td>Tren</td>\n",
       "      <td>Barcelona</td>\n",
       "      <td>Sunday</td>\n",
       "    </tr>\n",
       "    <tr>\n",
       "      <th>2</th>\n",
       "      <td>3</td>\n",
       "      <td>2023-01-01 00:02:00</td>\n",
       "      <td>Madrid - Zaragoza</td>\n",
       "      <td>10.0</td>\n",
       "      <td>94.0</td>\n",
       "      <td>119</td>\n",
       "      <td>Autobús</td>\n",
       "      <td>Madrid</td>\n",
       "      <td>Sunday</td>\n",
       "    </tr>\n",
       "  </tbody>\n",
       "</table>\n",
       "</div>"
      ],
      "text/plain": [
       "        ID_Viaje                Fecha                Ruta  Numero_Pasajeros  \\\n",
       "0              1  2023-01-01 00:00:00  Barcelona - Bilbao               NaN   \n",
       "100000         1  2023-01-01 00:00:00  Barcelona - Bilbao               NaN   \n",
       "1              2  2023-01-01 00:01:00    Malaga - Sevilla              99.0   \n",
       "100001         2  2023-01-01 00:01:00    Malaga - Sevilla              99.0   \n",
       "2              3  2023-01-01 00:02:00   Madrid - Zaragoza              10.0   \n",
       "\n",
       "       Duracion_Viaje_Minutos  Retraso_Minutos Tipo_Transporte     Region  \\\n",
       "0               not_available              999         Tranvía    Sevilla   \n",
       "100000          not_available              999         Tranvía    Sevilla   \n",
       "1                       192.0               58            Tren  Barcelona   \n",
       "100001                  192.0               58            Tren  Barcelona   \n",
       "2                        94.0              119         Autobús     Madrid   \n",
       "\n",
       "       Dia_Semana  \n",
       "0          Sunday  \n",
       "100000     Sunday  \n",
       "1          Sunday  \n",
       "100001     Sunday  \n",
       "2          Sunday  "
      ]
     },
     "execution_count": 6,
     "metadata": {},
     "output_type": "execute_result"
    }
   ],
   "source": [
    "# Encuentro las filas duplicadas\n",
    "duplicados = df_tp[df_tp.duplicated(keep=False)]\n",
    "\n",
    "# Ordeno los duplicados\n",
    "duplicados_ordenados = duplicados.sort_values(by=list(df_tp.columns))\n",
    "duplicados_ordenados.head()\n"
   ]
  },
  {
   "cell_type": "markdown",
   "metadata": {},
   "source": [
    "Al comprobar que sí son filas con valores duplicados, los elimino y compruebo que está ok."
   ]
  },
  {
   "cell_type": "code",
   "execution_count": 7,
   "metadata": {},
   "outputs": [],
   "source": [
    "# Elimino duplicados\n",
    "df_tp = df_tp.drop_duplicates()"
   ]
  },
  {
   "cell_type": "code",
   "execution_count": 8,
   "metadata": {},
   "outputs": [
    {
     "data": {
      "text/plain": [
       "0"
      ]
     },
     "execution_count": 8,
     "metadata": {},
     "output_type": "execute_result"
    }
   ],
   "source": [
    "df_tp.duplicated().sum()"
   ]
  },
  {
   "cell_type": "markdown",
   "metadata": {},
   "source": [
    "Tras eliminar duplicados, me centro en los nulos. Primero visualizo qué cantidad de datos tengo (filas y columnas) para entender el contexto en el que estoy trabajando. Después reviso qué cantidad de nulos tengo por columna (en términos absolutos) y después qué supone en base 100 (%) con respecto al total de la muestra."
   ]
  },
  {
   "cell_type": "code",
   "execution_count": 9,
   "metadata": {},
   "outputs": [
    {
     "data": {
      "text/plain": [
       "(100000, 9)"
      ]
     },
     "execution_count": 9,
     "metadata": {},
     "output_type": "execute_result"
    }
   ],
   "source": [
    "df_tp.shape"
   ]
  },
  {
   "cell_type": "code",
   "execution_count": 10,
   "metadata": {},
   "outputs": [
    {
     "data": {
      "text/plain": [
       "ID_Viaje                     0\n",
       "Fecha                        0\n",
       "Ruta                         0\n",
       "Numero_Pasajeros          1000\n",
       "Duracion_Viaje_Minutos     333\n",
       "Retraso_Minutos              0\n",
       "Tipo_Transporte              0\n",
       "Region                       0\n",
       "Dia_Semana                   0\n",
       "dtype: int64"
      ]
     },
     "execution_count": 10,
     "metadata": {},
     "output_type": "execute_result"
    }
   ],
   "source": [
    "# reviso nulos\n",
    "df_tp.isnull().sum()"
   ]
  },
  {
   "cell_type": "code",
   "execution_count": 11,
   "metadata": {},
   "outputs": [
    {
     "data": {
      "text/plain": [
       "ID_Viaje                  0.000\n",
       "Fecha                     0.000\n",
       "Ruta                      0.000\n",
       "Numero_Pasajeros          1.000\n",
       "Duracion_Viaje_Minutos    0.333\n",
       "Retraso_Minutos           0.000\n",
       "Tipo_Transporte           0.000\n",
       "Region                    0.000\n",
       "Dia_Semana                0.000\n",
       "dtype: float64"
      ]
     },
     "execution_count": 11,
     "metadata": {},
     "output_type": "execute_result"
    }
   ],
   "source": [
    "df_tp.isnull().sum()/df_tp.shape[0]*100"
   ]
  },
  {
   "cell_type": "markdown",
   "metadata": {},
   "source": [
    "No es un porcentaje reseñable en ninguno de los dos casos, de todas formas, decido explorarlos un poco más en profundidad antes de gestionarlos para entender qué está pasando y por qué son nulos."
   ]
  },
  {
   "cell_type": "code",
   "execution_count": 12,
   "metadata": {},
   "outputs": [
    {
     "data": {
      "text/html": [
       "<div>\n",
       "<style scoped>\n",
       "    .dataframe tbody tr th:only-of-type {\n",
       "        vertical-align: middle;\n",
       "    }\n",
       "\n",
       "    .dataframe tbody tr th {\n",
       "        vertical-align: top;\n",
       "    }\n",
       "\n",
       "    .dataframe thead th {\n",
       "        text-align: right;\n",
       "    }\n",
       "</style>\n",
       "<table border=\"1\" class=\"dataframe\">\n",
       "  <thead>\n",
       "    <tr style=\"text-align: right;\">\n",
       "      <th></th>\n",
       "      <th>ID_Viaje</th>\n",
       "      <th>Fecha</th>\n",
       "      <th>Ruta</th>\n",
       "      <th>Numero_Pasajeros</th>\n",
       "      <th>Duracion_Viaje_Minutos</th>\n",
       "      <th>Retraso_Minutos</th>\n",
       "      <th>Tipo_Transporte</th>\n",
       "      <th>Region</th>\n",
       "      <th>Dia_Semana</th>\n",
       "    </tr>\n",
       "  </thead>\n",
       "  <tbody>\n",
       "    <tr>\n",
       "      <th>0</th>\n",
       "      <td>1</td>\n",
       "      <td>2023-01-01 00:00:00</td>\n",
       "      <td>Barcelona - Bilbao</td>\n",
       "      <td>NaN</td>\n",
       "      <td>not_available</td>\n",
       "      <td>999</td>\n",
       "      <td>Tranvía</td>\n",
       "      <td>Sevilla</td>\n",
       "      <td>Sunday</td>\n",
       "    </tr>\n",
       "    <tr>\n",
       "      <th>100</th>\n",
       "      <td>101</td>\n",
       "      <td>2023-01-01 01:40:00</td>\n",
       "      <td>Madrid - Zaragoza</td>\n",
       "      <td>NaN</td>\n",
       "      <td>613.0</td>\n",
       "      <td>111</td>\n",
       "      <td>Tranvía</td>\n",
       "      <td>Barcelona</td>\n",
       "      <td>Sunday</td>\n",
       "    </tr>\n",
       "    <tr>\n",
       "      <th>150</th>\n",
       "      <td>151</td>\n",
       "      <td>2023-01-01 02:30:00</td>\n",
       "      <td>Malaga - Sevilla</td>\n",
       "      <td>83.0</td>\n",
       "      <td>NaN</td>\n",
       "      <td>48</td>\n",
       "      <td>Metro</td>\n",
       "      <td>Valencia</td>\n",
       "      <td>Sunday</td>\n",
       "    </tr>\n",
       "    <tr>\n",
       "      <th>200</th>\n",
       "      <td>201</td>\n",
       "      <td>2023-01-01 03:20:00</td>\n",
       "      <td>Valencia - Sevilla</td>\n",
       "      <td>NaN</td>\n",
       "      <td>143.0</td>\n",
       "      <td>999</td>\n",
       "      <td>Tranvía</td>\n",
       "      <td>Malaga</td>\n",
       "      <td>Sunday</td>\n",
       "    </tr>\n",
       "    <tr>\n",
       "      <th>300</th>\n",
       "      <td>301</td>\n",
       "      <td>2023-01-01 05:00:00</td>\n",
       "      <td>Sevilla - Madrid</td>\n",
       "      <td>NaN</td>\n",
       "      <td>not_available</td>\n",
       "      <td>117</td>\n",
       "      <td>Tren</td>\n",
       "      <td>Malaga</td>\n",
       "      <td>Sunday</td>\n",
       "    </tr>\n",
       "  </tbody>\n",
       "</table>\n",
       "</div>"
      ],
      "text/plain": [
       "     ID_Viaje                Fecha                Ruta  Numero_Pasajeros  \\\n",
       "0           1  2023-01-01 00:00:00  Barcelona - Bilbao               NaN   \n",
       "100       101  2023-01-01 01:40:00   Madrid - Zaragoza               NaN   \n",
       "150       151  2023-01-01 02:30:00    Malaga - Sevilla              83.0   \n",
       "200       201  2023-01-01 03:20:00  Valencia - Sevilla               NaN   \n",
       "300       301  2023-01-01 05:00:00    Sevilla - Madrid               NaN   \n",
       "\n",
       "    Duracion_Viaje_Minutos  Retraso_Minutos Tipo_Transporte     Region  \\\n",
       "0            not_available              999         Tranvía    Sevilla   \n",
       "100                  613.0              111         Tranvía  Barcelona   \n",
       "150                    NaN               48           Metro   Valencia   \n",
       "200                  143.0              999         Tranvía     Malaga   \n",
       "300          not_available              117            Tren     Malaga   \n",
       "\n",
       "    Dia_Semana  \n",
       "0       Sunday  \n",
       "100     Sunday  \n",
       "150     Sunday  \n",
       "200     Sunday  \n",
       "300     Sunday  "
      ]
     },
     "execution_count": 12,
     "metadata": {},
     "output_type": "execute_result"
    }
   ],
   "source": [
    "# Reviso los datos nulos antes de gestionarlos para entender qué está pasando y porqué son nulos\n",
    "Numero_Pasajeros = 'Numero_Pasajeros'\n",
    "Duracion_Viaje_Minutos = 'Duracion_Viaje_Minutos'\n",
    "\n",
    "# Filtro filas donde cualquiera de las dos columnas tiene valores nulos\n",
    "filas_nulas = df_tp[df_tp[Numero_Pasajeros].isnull() | df_tp[Duracion_Viaje_Minutos].isnull()]\n",
    "\n",
    "# Muestro las filas con valores nulos en las dos columnas especificadas\n",
    "filas_nulas.head()"
   ]
  },
  {
   "cell_type": "code",
   "execution_count": 13,
   "metadata": {},
   "outputs": [
    {
     "data": {
      "text/plain": [
       "count    99000.000000\n",
       "mean        54.465293\n",
       "std         25.954694\n",
       "min         10.000000\n",
       "25%         32.000000\n",
       "50%         54.000000\n",
       "75%         77.000000\n",
       "max         99.000000\n",
       "Name: Numero_Pasajeros, dtype: float64"
      ]
     },
     "execution_count": 13,
     "metadata": {},
     "output_type": "execute_result"
    }
   ],
   "source": [
    "df_tp['Numero_Pasajeros'].describe()"
   ]
  },
  {
   "cell_type": "code",
   "execution_count": 14,
   "metadata": {},
   "outputs": [
    {
     "data": {
      "image/png": "[encoded data removed]",
      "text/plain": [
       "<Figure size 432x288 with 1 Axes>"
      ]
     },
     "metadata": {
      "needs_background": "light"
     },
     "output_type": "display_data"
    }
   ],
   "source": [
    "sns.boxplot(x='Numero_Pasajeros', data= df_tp);"
   ]
  },
  {
   "cell_type": "code",
   "execution_count": 15,
   "metadata": {},
   "outputs": [
    {
     "data": {
      "image/png": "[encoded data removed]",
      "text/plain": [
       "<Figure size 432x288 with 1 Axes>"
      ]
     },
     "metadata": {
      "needs_background": "light"
     },
     "output_type": "display_data"
    }
   ],
   "source": [
    "sns.scatterplot(x=df_tp.index, y='Numero_Pasajeros', data=df_tp)\n",
    "plt.xlabel('Índice')\n",
    "plt.ylabel('Numero_Pasajeros')\n",
    "plt.title('Visualización detallada de Outliers en Numero_Pasajeros')\n",
    "plt.show()"
   ]
  },
  {
   "cell_type": "markdown",
   "metadata": {},
   "source": [
    "Al comprobar que los valores son muy estables, el % de nulos sobre el total es muy bajo y los datos no se van a ver alterados, decido sustituir los valores nulos de la columna **Número de pasajeros** y **Duración viaje minutos** por la media."
   ]
  },
  {
   "cell_type": "code",
   "execution_count": 16,
   "metadata": {},
   "outputs": [
    {
     "name": "stdout",
     "output_type": "stream",
     "text": [
      "Contenido de la columna 'Numero_Pasajeros' antes de la sustitución:\n",
      "0     NaN\n",
      "1    99.0\n",
      "2    10.0\n",
      "3    96.0\n",
      "4    22.0\n",
      "Name: Numero_Pasajeros, dtype: float64\n",
      "\n",
      "Número de valores nulos en 'Numero_Pasajeros' después de la sustitución:\n",
      "0\n",
      "\n",
      "Contenido de la columna 'Numero_Pasajeros' después de la sustitución:\n",
      "0    54.465293\n",
      "1    99.000000\n",
      "2    10.000000\n",
      "3    96.000000\n",
      "4    22.000000\n",
      "Name: Numero_Pasajeros, dtype: float64\n"
     ]
    }
   ],
   "source": [
    "#Sustituir los valores nulos por la media\n",
    "# Verifico el contenido de la columna antes de la sustitución\n",
    "print(\"Contenido de la columna 'Numero_Pasajeros' antes de la sustitución:\")\n",
    "print(df_tp['Numero_Pasajeros'].head())\n",
    "\n",
    "# Calculo la media de la columna 'minutos'\n",
    "media_pasajeros = df_tp['Numero_Pasajeros'].astype(float).mean()\n",
    "\n",
    "# Sustituyo los valores nulos por la media\n",
    "df_tp['Numero_Pasajeros'].fillna(media_pasajeros, inplace=True)\n",
    "\n",
    "# Verifico si hay valores nulos restantes\n",
    "print(\"\\nNúmero de valores nulos en 'Numero_Pasajeros' después de la sustitución:\")\n",
    "print(df_tp['Numero_Pasajeros'].isnull().sum())\n",
    "\n",
    "# Muestro las primeras filas de la columna después de la sustitución\n",
    "print(\"\\nContenido de la columna 'Numero_Pasajeros' después de la sustitución:\")\n",
    "print(df_tp['Numero_Pasajeros'].head())"
   ]
  },
  {
   "cell_type": "code",
   "execution_count": 17,
   "metadata": {},
   "outputs": [
    {
     "name": "stdout",
     "output_type": "stream",
     "text": [
      "Contenido de la columna 'Duracion_Viaje_Minutos' antes de la gestión:\n",
      "count             99667\n",
      "unique              706\n",
      "top       not_available\n",
      "freq                334\n",
      "Name: Duracion_Viaje_Minutos, dtype: object\n",
      "\n",
      "Número de valores nulos en 'Duracion_Viaje_Minutos' después de la gestión:\n",
      "0\n",
      "\n",
      "Contenido de la columna 'Duracion_Viaje_Minutos' después de la gestión:\n",
      "count    100000.000000\n",
      "mean        366.810275\n",
      "std         202.578386\n",
      "min          15.000000\n",
      "25%         192.000000\n",
      "50%         366.810275\n",
      "75%         541.000000\n",
      "max         719.000000\n",
      "Name: Duracion_Viaje_Minutos, dtype: float64\n"
     ]
    }
   ],
   "source": [
    "# Verifico el contenido de la columna antes de la gestión\n",
    "print(\"Contenido de la columna 'Duracion_Viaje_Minutos' antes de la gestión:\")\n",
    "print(df_tp['Duracion_Viaje_Minutos'].describe())\n",
    "\n",
    "# Reemplazo 'not_available' con NaN para poder meter la media a los nulos\n",
    "df_tp['Duracion_Viaje_Minutos'].replace('not_available', np.nan, inplace=True)\n",
    "\n",
    "# Convierto la columna a tipo numérico\n",
    "df_tp['Duracion_Viaje_Minutos'] = pd.to_numeric(df_tp['Duracion_Viaje_Minutos'], errors='coerce')\n",
    "\n",
    "# Calculo la media de la columna 'Duracion_Viaje_Minutos'\n",
    "media_duracion = df_tp['Duracion_Viaje_Minutos'].mean()\n",
    "\n",
    "# Sustituyo los valores nulos por la media\n",
    "df_tp['Duracion_Viaje_Minutos'].fillna(media_duracion, inplace=True)\n",
    "\n",
    "# Verifico si hay valores nulos restantes\n",
    "print(\"\\nNúmero de valores nulos en 'Duracion_Viaje_Minutos' después de la gestión:\")\n",
    "print(df_tp['Duracion_Viaje_Minutos'].isnull().sum())\n",
    "\n",
    "# Muestro las estadísticas de la columna después de la gestión\n",
    "print(\"\\nContenido de la columna 'Duracion_Viaje_Minutos' después de la gestión:\")\n",
    "print(df_tp['Duracion_Viaje_Minutos'].describe())"
   ]
  },
  {
   "cell_type": "markdown",
   "metadata": {},
   "source": [
    "He detectado una cosa más, aunque a nivel estadístico no se refleja, en la columna **Retraso Minutos** veo que siempre que es nulo en la columna de pasajeros, el valor es 999 por lo que decido revisarlo y ver cómo lo gestiono."
   ]
  },
  {
   "cell_type": "code",
   "execution_count": 18,
   "metadata": {},
   "outputs": [
    {
     "name": "stdout",
     "output_type": "stream",
     "text": [
      "Hay 500 valores de 999 en la columna 'Retraso_Minutos'.\n",
      "\n",
      "Algunas filas con el valor 999 en 'Retraso_Minutos':\n",
      "     ID_Viaje                Fecha                  Ruta  Numero_Pasajeros  \\\n",
      "0           1  2023-01-01 00:00:00    Barcelona - Bilbao         54.465293   \n",
      "200       201  2023-01-01 03:20:00    Valencia - Sevilla         54.465293   \n",
      "400       401  2023-01-01 06:40:00      Malaga - Sevilla         54.465293   \n",
      "600       601  2023-01-01 10:00:00  Barcelona - Valencia         54.465293   \n",
      "800       801  2023-01-01 13:20:00       Bilbao - Madrid         54.465293   \n",
      "\n",
      "     Duracion_Viaje_Minutos  Retraso_Minutos Tipo_Transporte    Region  \\\n",
      "0                366.810275              999         Tranvía   Sevilla   \n",
      "200              143.000000              999         Tranvía    Malaga   \n",
      "400              612.000000              999           Metro  Valencia   \n",
      "600              366.810275              999         Tranvía   Sevilla   \n",
      "800              209.000000              999         Autobús    Madrid   \n",
      "\n",
      "    Dia_Semana  \n",
      "0       Sunday  \n",
      "200     Sunday  \n",
      "400     Sunday  \n",
      "600     Sunday  \n",
      "800     Sunday  \n"
     ]
    }
   ],
   "source": [
    "# Cuento cuántos valores de 999 hay en la columna 'Retraso_Minutos'\n",
    "cuento_999 = df_tp[df_tp['Retraso_Minutos'] == 999].shape[0]\n",
    "\n",
    "print(f\"Hay {cuento_999} valores de 999 en la columna 'Retraso_Minutos'.\")\n",
    "\n",
    "# Muestro algunas filas que contienen el valor 999 para verificar\n",
    "print(\"\\nAlgunas filas con el valor 999 en 'Retraso_Minutos':\")\n",
    "print(df_tp[df_tp['Retraso_Minutos'] == 999].head())"
   ]
  },
  {
   "cell_type": "code",
   "execution_count": 19,
   "metadata": {},
   "outputs": [
    {
     "name": "stdout",
     "output_type": "stream",
     "text": [
      "El 0.50% de los valores en la columna 'Retraso_Minutos' son 999.\n"
     ]
    }
   ],
   "source": [
    "# Cuento el número de valores de 999 en la columna 'Retraso_Minutos'\n",
    "cuento_999 = df_tp[df_tp['Retraso_Minutos'] == 999].shape[0]\n",
    "\n",
    "# Cuento el número total de valores en la columna 'Retraso_Minutos'\n",
    "total_conteo = df_tp['Retraso_Minutos'].shape[0]\n",
    "\n",
    "# Calculo el porcentaje de valores 999\n",
    "porcentaje_999 = (cuento_999 / total_conteo) * 100\n",
    "\n",
    "print(f\"El {porcentaje_999:.2f}% de los valores en la columna 'Retraso_Minutos' son 999.\")"
   ]
  },
  {
   "cell_type": "markdown",
   "metadata": {},
   "source": [
    "Como el % de nulos es muy bajo y no va a desvirtuar los datos, decido sustituir los 999 por nulo, \n",
    "después calcular la media y después sustituir los nulos por la media. no quiero que el dato 999 \n",
    "altere el resultado de la media."
   ]
  },
  {
   "cell_type": "code",
   "execution_count": 20,
   "metadata": {},
   "outputs": [
    {
     "name": "stdout",
     "output_type": "stream",
     "text": [
      "Número de valores nulos en 'Retraso_Minutos' después de la sustitución:\n",
      "0\n",
      "\n",
      "Estadísticas de la columna 'Retraso_Minutos' después de la gestión:\n",
      "count    100000.000000\n",
      "mean         59.341980\n",
      "std          34.601469\n",
      "min           0.000000\n",
      "25%          29.000000\n",
      "50%          59.000000\n",
      "75%          89.000000\n",
      "max         119.000000\n",
      "Name: Retraso_Minutos, dtype: float64\n"
     ]
    }
   ],
   "source": [
    "# Reemplazo los valores 999 por NaN\n",
    "df_tp['Retraso_Minutos'].replace(999, np.nan, inplace=True)\n",
    "\n",
    "# Calculo la media de la columna 'Retraso_Minutos' (excluyendo NaNs)\n",
    "media_retraso = df_tp['Retraso_Minutos'].mean()\n",
    "\n",
    "# Sustituyo los valores NaN por la media calculada\n",
    "df_tp['Retraso_Minutos'].fillna(media_retraso, inplace=True)\n",
    "\n",
    "# Verifico si hay valores nulos restantes\n",
    "print(\"Número de valores nulos en 'Retraso_Minutos' después de la sustitución:\")\n",
    "print(df_tp['Retraso_Minutos'].isnull().sum())\n",
    "\n",
    "# Muestro las estadísticas de la columna después de la gestión\n",
    "print(\"\\nEstadísticas de la columna 'Retraso_Minutos' después de la gestión:\")\n",
    "print(df_tp['Retraso_Minutos'].describe())"
   ]
  },
  {
   "cell_type": "markdown",
   "metadata": {},
   "source": [
    "Una vez gestionados los duplicados y los nulos, continúo con los tipos de datos ya que he visto que alguno podría ser más útil en otro formato."
   ]
  },
  {
   "cell_type": "code",
   "execution_count": 21,
   "metadata": {},
   "outputs": [
    {
     "data": {
      "text/plain": [
       "Index(['ID_Viaje', 'Fecha', 'Ruta', 'Numero_Pasajeros',\n",
       "       'Duracion_Viaje_Minutos', 'Retraso_Minutos', 'Tipo_Transporte',\n",
       "       'Region', 'Dia_Semana'],\n",
       "      dtype='object')"
      ]
     },
     "execution_count": 21,
     "metadata": {},
     "output_type": "execute_result"
    }
   ],
   "source": [
    "# Exploro las columnas y los tipos de datos de nuevo para hacer cambios\n",
    "df_tp.columns"
   ]
  },
  {
   "cell_type": "code",
   "execution_count": 22,
   "metadata": {},
   "outputs": [
    {
     "name": "stdout",
     "output_type": "stream",
     "text": [
      "<class 'pandas.core.frame.DataFrame'>\n",
      "Int64Index: 100000 entries, 0 to 99999\n",
      "Data columns (total 9 columns):\n",
      " #   Column                  Non-Null Count   Dtype  \n",
      "---  ------                  --------------   -----  \n",
      " 0   ID_Viaje                100000 non-null  int64  \n",
      " 1   Fecha                   100000 non-null  object \n",
      " 2   Ruta                    100000 non-null  object \n",
      " 3   Numero_Pasajeros        100000 non-null  float64\n",
      " 4   Duracion_Viaje_Minutos  100000 non-null  float64\n",
      " 5   Retraso_Minutos         100000 non-null  float64\n",
      " 6   Tipo_Transporte         100000 non-null  object \n",
      " 7   Region                  100000 non-null  object \n",
      " 8   Dia_Semana              100000 non-null  object \n",
      "dtypes: float64(3), int64(1), object(5)\n",
      "memory usage: 7.6+ MB\n"
     ]
    }
   ],
   "source": [
    "df_tp.info()"
   ]
  },
  {
   "cell_type": "markdown",
   "metadata": {},
   "source": [
    "Tras revisarlos, veo oportuno hacer los siguientes cambios:\n",
    "1. Convertir Fecha a tipo datetime\n",
    "2. Convertir Numero de Pasajeros, Duración del viaje y Retraso minutos a tipo int"
   ]
  },
  {
   "cell_type": "code",
   "execution_count": 23,
   "metadata": {},
   "outputs": [],
   "source": [
    "# Convierto la columna 'Fecha' a tipo datetime\n",
    "df_tp['Fecha'] = pd.to_datetime(df_tp['Fecha'], errors='coerce')"
   ]
  },
  {
   "cell_type": "code",
   "execution_count": 24,
   "metadata": {},
   "outputs": [],
   "source": [
    "def convertir_columnas_a_int(dataframe, columnas):\n",
    "    for columna in columnas:\n",
    "        dataframe[columna] = dataframe[columna].astype(int)\n",
    "    return dataframe"
   ]
  },
  {
   "cell_type": "code",
   "execution_count": 25,
   "metadata": {},
   "outputs": [],
   "source": [
    "# Convierto las columnas a tipo int \n",
    "columnas_a_convertir = ['Numero_Pasajeros', 'Duracion_Viaje_Minutos', 'Retraso_Minutos']\n",
    "df_tp = convertir_columnas_a_int(df_tp, columnas_a_convertir)"
   ]
  },
  {
   "cell_type": "code",
   "execution_count": 26,
   "metadata": {},
   "outputs": [
    {
     "name": "stdout",
     "output_type": "stream",
     "text": [
      "ID_Viaje                           int64\n",
      "Fecha                     datetime64[ns]\n",
      "Ruta                              object\n",
      "Numero_Pasajeros                   int64\n",
      "Duracion_Viaje_Minutos             int64\n",
      "Retraso_Minutos                    int64\n",
      "Tipo_Transporte                   object\n",
      "Region                            object\n",
      "Dia_Semana                        object\n",
      "dtype: object\n"
     ]
    }
   ],
   "source": [
    "# Verifico la conversión\n",
    "print(df_tp.dtypes)"
   ]
  },
  {
   "cell_type": "markdown",
   "metadata": {},
   "source": [
    "Una vez gestionados los tipos de datos, me centro en la columna **Dia de la semana** ya que he detectado que los valores están en inglés cuando el resto de información está en español, pensando en ahorrarme un paso en la fase de visualización en power bi, decido mapearlo y cambiarlo."
   ]
  },
  {
   "cell_type": "code",
   "execution_count": 27,
   "metadata": {},
   "outputs": [
    {
     "data": {
      "text/plain": [
       "array(['Sunday', 'Monday', 'Tuesday', 'Wednesday', 'Thursday', 'Friday',\n",
       "       'Saturday'], dtype=object)"
      ]
     },
     "execution_count": 27,
     "metadata": {},
     "output_type": "execute_result"
    }
   ],
   "source": [
    "#Veo la columna de dia de la semana\n",
    "\n",
    "df_tp['Dia_Semana'].unique()"
   ]
  },
  {
   "cell_type": "code",
   "execution_count": 28,
   "metadata": {},
   "outputs": [],
   "source": [
    "# Creo un diccionario de mapeo para traducir los días de la semana a español\n",
    "mapeo_dias = {\n",
    "    'Monday': 'Lunes',\n",
    "    'Tuesday': 'Martes',\n",
    "    'Wednesday': 'Miércoles',\n",
    "    'Thursday': 'Jueves',\n",
    "    'Friday': 'Viernes',\n",
    "    'Saturday': 'Sábado',\n",
    "    'Sunday': 'Domingo'\n",
    "}\n",
    "\n",
    "# Aplico el mapeo a la columna 'Dia_Semana'\n",
    "df_tp['Dia_Semana'] = df_tp['Dia_Semana'].map(mapeo_dias)"
   ]
  },
  {
   "cell_type": "markdown",
   "metadata": {},
   "source": [
    "Continúo explorando los datos por columnas para ver si empiezo a detectar patrones"
   ]
  },
  {
   "cell_type": "code",
   "execution_count": 29,
   "metadata": {},
   "outputs": [
    {
     "data": {
      "text/plain": [
       "Index(['ID_Viaje', 'Fecha', 'Ruta', 'Numero_Pasajeros',\n",
       "       'Duracion_Viaje_Minutos', 'Retraso_Minutos', 'Tipo_Transporte',\n",
       "       'Region', 'Dia_Semana'],\n",
       "      dtype='object')"
      ]
     },
     "execution_count": 29,
     "metadata": {},
     "output_type": "execute_result"
    }
   ],
   "source": [
    "df_tp.columns"
   ]
  },
  {
   "cell_type": "code",
   "execution_count": 30,
   "metadata": {},
   "outputs": [
    {
     "data": {
      "text/plain": [
       "Bilbao - Madrid         10191\n",
       "Madrid - Malaga         10139\n",
       "Zaragoza - Barcelona    10053\n",
       "Barcelona - Bilbao      10036\n",
       "Sevilla - Madrid        10000\n",
       "Madrid - Zaragoza        9960\n",
       "Malaga - Sevilla         9938\n",
       "Barcelona - Valencia     9925\n",
       "Madrid - Barcelona       9922\n",
       "Valencia - Sevilla       9836\n",
       "Name: Ruta, dtype: int64"
      ]
     },
     "execution_count": 30,
     "metadata": {},
     "output_type": "execute_result"
    }
   ],
   "source": [
    "df_tp['Ruta'].value_counts()"
   ]
  },
  {
   "cell_type": "markdown",
   "metadata": {},
   "source": [
    "Intento entender la columna **Region** ya que, de todas las que contiene el dataset, es la única que me genera dudas. Trato de explorarla a fondo utilizando la columna **Ruta** ya que, por naturaleza de los datos, es la que tiene más sentido, pero no encuentro ningún patrón que me indique cómo funciona. Decido aislarla del análisis de momento hasta que pueda hablar con mi cliente y preguntar a cerca de ella y de cómo funciona la recogida de información."
   ]
  },
  {
   "cell_type": "code",
   "execution_count": 31,
   "metadata": {},
   "outputs": [],
   "source": [
    "# Intentando entender la columna de Region (comparada con las rutas). Nada coincide, no tiene sentido\n",
    "df_filtrado = df_tp[df_tp['Ruta'] == 'Barcelona - Valencia']"
   ]
  },
  {
   "cell_type": "code",
   "execution_count": 32,
   "metadata": {},
   "outputs": [
    {
     "data": {
      "text/plain": [
       "Barcelona    1443\n",
       "Bilbao       1443\n",
       "Zaragoza     1431\n",
       "Valencia     1412\n",
       "Malaga       1409\n",
       "Madrid       1395\n",
       "Sevilla      1392\n",
       "Name: Region, dtype: int64"
      ]
     },
     "execution_count": 32,
     "metadata": {},
     "output_type": "execute_result"
    }
   ],
   "source": [
    "df_filtrado['Region'].value_counts()"
   ]
  },
  {
   "cell_type": "markdown",
   "metadata": {},
   "source": [
    "Al quedar inutilizada la columna de **Region**, decido crear dos columnas nuevas \"ORIGEN\" y \"DESTINO\" a partir de la columna **Ruta** para ver si consigo un dato potente o un patrón que me de información relevante a nivel geográfico en el análisis posterior."
   ]
  },
  {
   "cell_type": "code",
   "execution_count": 33,
   "metadata": {},
   "outputs": [],
   "source": [
    "# decido crear dos columnas nuevas de origen y destino para ver si por ciudad se encuentran patrones\n",
    "# Divido la columna 'Ruta' en dos nuevas columnas 'Origen' y 'Destino'\n",
    "df_tp[['Origen', 'Destino']] = df_tp['Ruta'].str.split(' - ', expand=True)"
   ]
  },
  {
   "cell_type": "code",
   "execution_count": 34,
   "metadata": {},
   "outputs": [
    {
     "data": {
      "text/html": [
       "<div>\n",
       "<style scoped>\n",
       "    .dataframe tbody tr th:only-of-type {\n",
       "        vertical-align: middle;\n",
       "    }\n",
       "\n",
       "    .dataframe tbody tr th {\n",
       "        vertical-align: top;\n",
       "    }\n",
       "\n",
       "    .dataframe thead th {\n",
       "        text-align: right;\n",
       "    }\n",
       "</style>\n",
       "<table border=\"1\" class=\"dataframe\">\n",
       "  <thead>\n",
       "    <tr style=\"text-align: right;\">\n",
       "      <th></th>\n",
       "      <th>ID_Viaje</th>\n",
       "      <th>Fecha</th>\n",
       "      <th>Ruta</th>\n",
       "      <th>Numero_Pasajeros</th>\n",
       "      <th>Duracion_Viaje_Minutos</th>\n",
       "      <th>Retraso_Minutos</th>\n",
       "      <th>Tipo_Transporte</th>\n",
       "      <th>Region</th>\n",
       "      <th>Dia_Semana</th>\n",
       "      <th>Origen</th>\n",
       "      <th>Destino</th>\n",
       "    </tr>\n",
       "  </thead>\n",
       "  <tbody>\n",
       "    <tr>\n",
       "      <th>0</th>\n",
       "      <td>1</td>\n",
       "      <td>2023-01-01 00:00:00</td>\n",
       "      <td>Barcelona - Bilbao</td>\n",
       "      <td>54</td>\n",
       "      <td>366</td>\n",
       "      <td>59</td>\n",
       "      <td>Tranvía</td>\n",
       "      <td>Sevilla</td>\n",
       "      <td>Domingo</td>\n",
       "      <td>Barcelona</td>\n",
       "      <td>Bilbao</td>\n",
       "    </tr>\n",
       "    <tr>\n",
       "      <th>1</th>\n",
       "      <td>2</td>\n",
       "      <td>2023-01-01 00:01:00</td>\n",
       "      <td>Malaga - Sevilla</td>\n",
       "      <td>99</td>\n",
       "      <td>192</td>\n",
       "      <td>58</td>\n",
       "      <td>Tren</td>\n",
       "      <td>Barcelona</td>\n",
       "      <td>Domingo</td>\n",
       "      <td>Malaga</td>\n",
       "      <td>Sevilla</td>\n",
       "    </tr>\n",
       "    <tr>\n",
       "      <th>2</th>\n",
       "      <td>3</td>\n",
       "      <td>2023-01-01 00:02:00</td>\n",
       "      <td>Madrid - Zaragoza</td>\n",
       "      <td>10</td>\n",
       "      <td>94</td>\n",
       "      <td>119</td>\n",
       "      <td>Autobús</td>\n",
       "      <td>Madrid</td>\n",
       "      <td>Domingo</td>\n",
       "      <td>Madrid</td>\n",
       "      <td>Zaragoza</td>\n",
       "    </tr>\n",
       "    <tr>\n",
       "      <th>3</th>\n",
       "      <td>4</td>\n",
       "      <td>2023-01-01 00:03:00</td>\n",
       "      <td>Sevilla - Madrid</td>\n",
       "      <td>96</td>\n",
       "      <td>650</td>\n",
       "      <td>2</td>\n",
       "      <td>Metro</td>\n",
       "      <td>Malaga</td>\n",
       "      <td>Domingo</td>\n",
       "      <td>Sevilla</td>\n",
       "      <td>Madrid</td>\n",
       "    </tr>\n",
       "    <tr>\n",
       "      <th>4</th>\n",
       "      <td>5</td>\n",
       "      <td>2023-01-01 00:04:00</td>\n",
       "      <td>Madrid - Malaga</td>\n",
       "      <td>22</td>\n",
       "      <td>335</td>\n",
       "      <td>51</td>\n",
       "      <td>Autobús</td>\n",
       "      <td>Sevilla</td>\n",
       "      <td>Domingo</td>\n",
       "      <td>Madrid</td>\n",
       "      <td>Malaga</td>\n",
       "    </tr>\n",
       "  </tbody>\n",
       "</table>\n",
       "</div>"
      ],
      "text/plain": [
       "   ID_Viaje               Fecha                Ruta  Numero_Pasajeros  \\\n",
       "0         1 2023-01-01 00:00:00  Barcelona - Bilbao                54   \n",
       "1         2 2023-01-01 00:01:00    Malaga - Sevilla                99   \n",
       "2         3 2023-01-01 00:02:00   Madrid - Zaragoza                10   \n",
       "3         4 2023-01-01 00:03:00    Sevilla - Madrid                96   \n",
       "4         5 2023-01-01 00:04:00     Madrid - Malaga                22   \n",
       "\n",
       "   Duracion_Viaje_Minutos  Retraso_Minutos Tipo_Transporte     Region  \\\n",
       "0                     366               59         Tranvía    Sevilla   \n",
       "1                     192               58            Tren  Barcelona   \n",
       "2                      94              119         Autobús     Madrid   \n",
       "3                     650                2           Metro     Malaga   \n",
       "4                     335               51         Autobús    Sevilla   \n",
       "\n",
       "  Dia_Semana     Origen   Destino  \n",
       "0    Domingo  Barcelona    Bilbao  \n",
       "1    Domingo     Malaga   Sevilla  \n",
       "2    Domingo     Madrid  Zaragoza  \n",
       "3    Domingo    Sevilla    Madrid  \n",
       "4    Domingo     Madrid    Malaga  "
      ]
     },
     "execution_count": 34,
     "metadata": {},
     "output_type": "execute_result"
    }
   ],
   "source": [
    "df_tp.head()"
   ]
  },
  {
   "cell_type": "markdown",
   "metadata": {},
   "source": [
    "También decido explorar la columna **Retrasos** ya que, entendiendo que el objetivo de esta investigación es entender patrones para mejorar eficiencias y reducir retrasos, creo que es importante conocerla a fondo para poder exprimir al máximo su contenido. También es importante que esté limpia porque la mayor parte del análisis posterior va a girar en torno a esta columna."
   ]
  },
  {
   "cell_type": "code",
   "execution_count": 35,
   "metadata": {},
   "outputs": [
    {
     "name": "stdout",
     "output_type": "stream",
     "text": [
      "El máximo retraso en minutos es: 119\n",
      "El mínimo retraso en minutos es: 0\n"
     ]
    }
   ],
   "source": [
    "# Valores max y min de los retrasos\n",
    "max_retraso = df_tp['Retraso_Minutos'].max()\n",
    "min_retraso = df_tp['Retraso_Minutos'].min()\n",
    "\n",
    "print(\"El máximo retraso en minutos es:\", max_retraso)\n",
    "print(\"El mínimo retraso en minutos es:\", min_retraso)\n"
   ]
  },
  {
   "cell_type": "code",
   "execution_count": 36,
   "metadata": {},
   "outputs": [
    {
     "data": {
      "text/plain": [
       "count    100000.000000\n",
       "mean         59.340270\n",
       "std          34.601477\n",
       "min           0.000000\n",
       "25%          29.000000\n",
       "50%          59.000000\n",
       "75%          89.000000\n",
       "max         119.000000\n",
       "Name: Retraso_Minutos, dtype: float64"
      ]
     },
     "execution_count": 36,
     "metadata": {},
     "output_type": "execute_result"
    }
   ],
   "source": [
    "df_tp['Retraso_Minutos'].describe()"
   ]
  },
  {
   "cell_type": "code",
   "execution_count": 37,
   "metadata": {},
   "outputs": [
    {
     "data": {
      "text/plain": [
       "array([ 59,  58, 119,   2,  51,  68,  21,  91,  76,  67, 115,  63,  30,\n",
       "        44,  20,  25,  49,  24,  65,  39, 117,  72, 110,  85, 100,  23,\n",
       "       113,  93,  31,  37,  75,   9,  71,  33, 108,  57,   3,  16,  73,\n",
       "       116,  36,  92,  17,  22,  62,  42,  74, 105,  81,  32,  90,  54,\n",
       "        87,  43,  78, 112,  70,  97,  26,  69,   5,  48, 107,  50,  45,\n",
       "        55, 103,  79,  89,  46,   7,  27, 111,  35,  56,  98,  38,  52,\n",
       "         1, 118,  84,  80,  64,  96,  95, 104,  10,  47,  14,  86,  15,\n",
       "       114,  18, 102,  28,  60,  83,  12,  61,   0,  11,  88, 109,  77,\n",
       "        66, 101,  82,  53,  94,  29,   8,   6,  99,   4,  40,  41,  19,\n",
       "        13, 106,  34])"
      ]
     },
     "execution_count": 37,
     "metadata": {},
     "output_type": "execute_result"
    }
   ],
   "source": [
    "df_tp['Retraso_Minutos'].unique()"
   ]
  },
  {
   "cell_type": "markdown",
   "metadata": {},
   "source": [
    "Antes de cerrar esta fase, decido explorar la columna de fecha ya que he detectado que tiene pinta de no estar bien recogida la información. Es otra columna que me parece determinante y que quiero comentar con el cliente cómo es el proceso a la hora de registrar los datos ya que, más que fechas, parece una escala que va en aumento (con formato fecha). Aún así decido mantenerla y utilizar los días para conformar meses en el análisis, ya que entiendo que esos datos sí están ok."
   ]
  },
  {
   "cell_type": "code",
   "execution_count": 38,
   "metadata": {},
   "outputs": [
    {
     "name": "stdout",
     "output_type": "stream",
     "text": [
      "La fecha más reciente en los datos es: 2023-03-11 10:39:00\n",
      "La fecha más antigua en los datos es: 2023-01-01 00:00:00\n"
     ]
    }
   ],
   "source": [
    "# Entendiendo el perído de tiempo analizado Fecha\n",
    "max_fecha = df_tp['Fecha'].max()\n",
    "min_fecha = df_tp['Fecha'].min()\n",
    "\n",
    "print(\"La fecha más reciente en los datos es:\", max_fecha)\n",
    "print(\"La fecha más antigua en los datos es:\", min_fecha)\n"
   ]
  },
  {
   "cell_type": "markdown",
   "metadata": {},
   "source": [
    "Una vez explorado, limpiado y transformado, exporto el dataframe a un csv con el que trabajar el análisis de la información."
   ]
  },
  {
   "cell_type": "code",
   "execution_count": 39,
   "metadata": {},
   "outputs": [],
   "source": [
    "# Exportar el DataFrame limpio a un archivo CSV para el análisis y las visualizaciones\n",
    "df_tp.to_csv('Transporte_ok.csv', index=False)"
   ]
  }
 ],
 "metadata": {
  "kernelspec": {
   "display_name": "base",
   "language": "python",
   "name": "python3"
  },
  "language_info": {
   "codemirror_mode": {
    "name": "ipython",
    "version": 3
   },
   "file_extension": ".py",
   "mimetype": "text/x-python",
   "name": "python",
   "nbconvert_exporter": "python",
   "pygments_lexer": "ipython3",
   "version": "3.9.7"
  }
 },
 "nbformat": 4,
 "nbformat_minor": 2
}
